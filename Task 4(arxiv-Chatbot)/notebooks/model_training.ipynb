{
 "cells": [
  {
   "cell_type": "code",
   "execution_count": null,
   "id": "d5589ce0",
   "metadata": {},
   "outputs": [
    {
     "name": "stderr",
     "output_type": "stream",
     "text": [
      "c:\\Users\\manas\\AppData\\Local\\Programs\\Python\\Python312\\Lib\\site-packages\\tqdm\\auto.py:21: TqdmWarning: IProgress not found. Please update jupyter and ipywidgets. See https://ipywidgets.readthedocs.io/en/stable/user_install.html\n",
      "  from .autonotebook import tqdm as notebook_tqdm\n"
     ]
    },
    {
     "name": "stdout",
     "output_type": "stream",
     "text": [
      "WARNING:tensorflow:From c:\\Users\\manas\\AppData\\Local\\Programs\\Python\\Python312\\Lib\\site-packages\\tf_keras\\src\\losses.py:2976: The name tf.losses.sparse_softmax_cross_entropy is deprecated. Please use tf.compat.v1.losses.sparse_softmax_cross_entropy instead.\n",
      "\n"
     ]
    },
    {
     "name": "stderr",
     "output_type": "stream",
     "text": [
      "Loading records: 2744489it [00:58, 46880.02it/s]\n"
     ]
    },
    {
     "name": "stdout",
     "output_type": "stream",
     "text": [
      "Loaded 1017166 computer science papers.\n"
     ]
    },
    {
     "name": "stderr",
     "output_type": "stream",
     "text": [
      "Batches:   3%|▎         | 964/31787 [8:22:34<393:30:56, 45.96s/it]"
     ]
    }
   ],
   "source": [
    "import json\n",
    "import pickle\n",
    "import numpy as np\n",
    "from pathlib import Path\n",
    "from tqdm import tqdm\n",
    "from sentence_transformers import SentenceTransformer\n",
    "import pandas as pd\n",
    "\n",
    "SAVE_PATH = Path('../model') \n",
    "SAVE_PATH.mkdir(parents=True, exist_ok=True)\n",
    "\n",
    "SAVE_EVERY = 100  \n",
    "BATCH_SIZE = 32\n",
    "checkpoint_path = SAVE_PATH / 'checkpoint.pkl'\n",
    "\n",
    "json_path = '../resources/arxiv-metadata-oai-snapshot.json'\n",
    "\n",
    "corpus = []\n",
    "ids = []\n",
    "\n",
    "with open(json_path, 'r', encoding='utf-8') as f:\n",
    "    for line in tqdm(f, desc=\"Reading JSON\"):\n",
    "        record = json.loads(line)\n",
    "        if 'cs.' in record.get('categories', ''):\n",
    "            title = record['title'].strip().replace('\\n', ' ')\n",
    "            abstract = record['abstract'].strip().replace('\\n', ' ')\n",
    "            corpus.append(f\"{title}. {abstract}\")\n",
    "            ids.append(record['id'])\n",
    "\n",
    "df = pd.DataFrame({'id': ids})\n",
    "print(f\"📚 Loaded {len(corpus)} CS papers.\")\n",
    "\n",
    "model = SentenceTransformer('allenai-specter')\n",
    "\n",
    "if checkpoint_path.exists():\n",
    "    with open(checkpoint_path, 'rb') as f:\n",
    "        checkpoint = pickle.load(f)\n",
    "        embeddings = checkpoint['embeddings']\n",
    "        start_idx = checkpoint['start_idx']\n",
    "    print(f\"🔄 Resuming from batch {start_idx // BATCH_SIZE}\")\n",
    "else:\n",
    "    embeddings = []\n",
    "    start_idx = 0\n",
    "\n",
    "for i in tqdm(range(start_idx, len(corpus), BATCH_SIZE), desc=\"🔁 Encoding\"):\n",
    "    batch = corpus[i:i + BATCH_SIZE]\n",
    "    batch_embeddings = model.encode(batch, convert_to_numpy=True)\n",
    "    embeddings.extend(batch_embeddings)\n",
    "\n",
    "    if (i // BATCH_SIZE) % SAVE_EVERY == 0:\n",
    "        with open(checkpoint_path, 'wb') as f:\n",
    "            pickle.dump({'embeddings': embeddings, 'start_idx': i + BATCH_SIZE}, f)\n",
    "\n",
    "with open(SAVE_PATH / 'arxiv_embeddings.pkl', 'wb') as f:\n",
    "    pickle.dump({\n",
    "        'ids': df['id'].tolist(),\n",
    "        'texts': corpus,\n",
    "        'embeddings': np.array(embeddings)\n",
    "    }, f)\n",
    "\n",
    "checkpoint_path.unlink(missing_ok=True)\n",
    "\n",
    "model.save(str(SAVE_PATH / 'sentence_model'))\n",
    "print(\"✅ Finished. All data and model saved.\")\n"
   ]
  }
 ],
 "metadata": {
  "kernelspec": {
   "display_name": "Python 3",
   "language": "python",
   "name": "python3"
  },
  "language_info": {
   "codemirror_mode": {
    "name": "ipython",
    "version": 3
   },
   "file_extension": ".py",
   "mimetype": "text/x-python",
   "name": "python",
   "nbconvert_exporter": "python",
   "pygments_lexer": "ipython3",
   "version": "3.12.4"
  }
 },
 "nbformat": 4,
 "nbformat_minor": 5
}
